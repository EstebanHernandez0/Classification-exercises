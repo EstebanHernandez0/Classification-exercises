{
 "cells": [
  {
   "cell_type": "code",
   "execution_count": 1,
   "id": "e392128e",
   "metadata": {},
   "outputs": [],
   "source": [
    "# ignore warnings\n",
    "import warnings\n",
    "warnings.filterwarnings(\"ignore\")\n",
    "\n",
    "import numpy as np\n",
    "import pandas as pd\n",
    "from pydataset import data\n",
    "import acquire\n",
    "import prepare\n",
    "from sklearn.model_selection import train_test_split\n",
    "from sklearn.tree import DecisionTreeClassifier, plot_tree\n",
    "from sklearn.metrics import classification_report\n",
    "from sklearn.metrics import confusion_matrix\n",
    "\n",
    "import matplotlib.pyplot as plt\n",
    "import seaborn as sns"
   ]
  },
  {
   "cell_type": "markdown",
   "id": "1af30653",
   "metadata": {},
   "source": [
    "# Using the titanic data, in your classification-exercises repository, create a notebook, decision_tree.ipynb where you will do the following:"
   ]
  },
  {
   "cell_type": "markdown",
   "id": "3a24e3bf",
   "metadata": {},
   "source": [
    "- ### What is your baseline prediction? What is your baseline accuracy? remember: your baseline prediction for a classification problem is predicting the most prevelant class in the training dataset (the mode). When you make those predictions, what is your accuracy? This is your baseline accuracy."
   ]
  },
  {
   "cell_type": "code",
   "execution_count": null,
   "id": "51f7124d",
   "metadata": {},
   "outputs": [],
   "source": [
    "df = pd.read_csv('titanic_df.csv')"
   ]
  },
  {
   "cell_type": "code",
   "execution_count": null,
   "id": "5afa9e7f",
   "metadata": {},
   "outputs": [],
   "source": [
    "df.head()"
   ]
  },
  {
   "cell_type": "code",
   "execution_count": null,
   "id": "d8faf87a",
   "metadata": {},
   "outputs": [],
   "source": [
    "df.info()"
   ]
  },
  {
   "cell_type": "code",
   "execution_count": null,
   "id": "bd593f27",
   "metadata": {},
   "outputs": [],
   "source": [
    "# dropping Unnamed column because it is useless\n",
    "df.drop(columns= ['Unnamed: 0'], inplace = True)\n",
    "df"
   ]
  },
  {
   "cell_type": "code",
   "execution_count": null,
   "id": "50cd3113",
   "metadata": {},
   "outputs": [],
   "source": [
    "# '0' means they didnt survive, '1' means that they did survive\n",
    "# the baseline will be '0' because it is the most common; the mode\n",
    "df.survived.value_counts()"
   ]
  },
  {
   "cell_type": "code",
   "execution_count": null,
   "id": "16c45b95",
   "metadata": {},
   "outputs": [],
   "source": [
    "df['baseline'] = df.survived.value_counts().idxmax()\n",
    "df"
   ]
  },
  {
   "cell_type": "code",
   "execution_count": null,
   "id": "bb8fe269",
   "metadata": {},
   "outputs": [],
   "source": [
    "(df.survived == df.baseline).mean()"
   ]
  },
  {
   "cell_type": "markdown",
   "id": "5c22c5a8",
   "metadata": {},
   "source": [
    "- ### Fit the decision tree classifier to your training sample and transform (i.e. make predictions on the training sample)"
   ]
  },
  {
   "cell_type": "code",
   "execution_count": null,
   "id": "b908c10f",
   "metadata": {},
   "outputs": [],
   "source": [
    "df = prepare.prep_titanic(df)"
   ]
  },
  {
   "cell_type": "code",
   "execution_count": null,
   "id": "89548a41",
   "metadata": {},
   "outputs": [],
   "source": [
    "df.drop(columns= ['sex', 'embark_town'], inplace = True)"
   ]
  },
  {
   "cell_type": "code",
   "execution_count": null,
   "id": "7cefde7b",
   "metadata": {},
   "outputs": [],
   "source": [
    "df.head()"
   ]
  },
  {
   "cell_type": "markdown",
   "id": "382535e8",
   "metadata": {},
   "source": [
    "def split_data(df, target=''):\n",
    "        train, test = train_test_split(df, \n",
    "                               train_size = 0.8,\n",
    "                               random_state=42,\n",
    "                              stratify=df[target])\n",
    "        train, val = train_test_split(train,\n",
    "                             train_size = 0.7,\n",
    "                             random_state=42,\n",
    "                             stratify=train[target])\n",
    "        return train, val, test"
   ]
  },
  {
   "cell_type": "code",
   "execution_count": null,
   "id": "c5e6b6b9",
   "metadata": {},
   "outputs": [],
   "source": [
    "train, val, test= split_data(df, target='survived')"
   ]
  },
  {
   "cell_type": "code",
   "execution_count": null,
   "id": "7996c530",
   "metadata": {},
   "outputs": [],
   "source": [
    "train.shape, val.shape, test.shape"
   ]
  },
  {
   "cell_type": "code",
   "execution_count": null,
   "id": "37dd97ca",
   "metadata": {},
   "outputs": [],
   "source": [
    "train"
   ]
  },
  {
   "cell_type": "code",
   "execution_count": null,
   "id": "81a1b4cf",
   "metadata": {},
   "outputs": [],
   "source": [
    "df"
   ]
  },
  {
   "cell_type": "code",
   "execution_count": null,
   "id": "741c5932",
   "metadata": {},
   "outputs": [],
   "source": [
    "X_train = train.drop(columns= ['survived'])\n",
    "y_train = train['survived']\n",
    "\n",
    "X_val = val.drop(columns= ['survived'])\n",
    "y_val = val['survived']\n",
    "\n",
    "X_test = test.drop(columns= ['survived'])\n",
    "y_test = test['survived']"
   ]
  },
  {
   "cell_type": "code",
   "execution_count": null,
   "id": "57758ebd",
   "metadata": {},
   "outputs": [],
   "source": [
    "seed = 42\n",
    "tree1 = DecisionTreeClassifier(max_depth = 3, random_state= 42)"
   ]
  },
  {
   "cell_type": "code",
   "execution_count": null,
   "id": "3d93f901",
   "metadata": {},
   "outputs": [],
   "source": [
    "tree1.fit(X_train, y_train)"
   ]
  },
  {
   "cell_type": "code",
   "execution_count": null,
   "id": "cd23c838",
   "metadata": {},
   "outputs": [],
   "source": [
    "tree1.score(X_train, y_train)"
   ]
  },
  {
   "cell_type": "code",
   "execution_count": null,
   "id": "777479e2",
   "metadata": {},
   "outputs": [],
   "source": [
    "plt.figure(figsize=(20, 14))\n",
    "plot_tree(tree1, feature_names= X_train.columns, class_names= np.array(tree1.classes_).astype('str').tolist(), rounded=True)\n",
    "plt.show()"
   ]
  },
  {
   "cell_type": "markdown",
   "id": "c6f509ec",
   "metadata": {},
   "source": [
    "- ### Evaluate your in-sample results using the model score, confusion matrix, and classification report."
   ]
  },
  {
   "cell_type": "code",
   "execution_count": null,
   "id": "84a8cde7",
   "metadata": {},
   "outputs": [],
   "source": [
    "tree1.score(X_train, y_train)"
   ]
  },
  {
   "cell_type": "code",
   "execution_count": null,
   "id": "976b2e2d",
   "metadata": {},
   "outputs": [],
   "source": [
    "y_preds = pd.DataFrame({\n",
    "    'y_act': y_train,\n",
    "    'baseline': 0,\n",
    "    'model_1': clf.predict(X_train)\n",
    "    \n",
    "})"
   ]
  },
  {
   "cell_type": "code",
   "execution_count": null,
   "id": "c317bbb1",
   "metadata": {},
   "outputs": [],
   "source": [
    "y_preds"
   ]
  },
  {
   "cell_type": "code",
   "execution_count": null,
   "id": "6128407d",
   "metadata": {},
   "outputs": [],
   "source": [
    "confusion_matrix(y_preds.y_act, y_preds.model_1)"
   ]
  },
  {
   "cell_type": "markdown",
   "id": "e1126509",
   "metadata": {},
   "source": [
    "- ### Compute: Accuracy, true positive rate, false positive rate, true negative rate, false negative rate, precision, recall, f1-score, and support."
   ]
  },
  {
   "cell_type": "code",
   "execution_count": null,
   "id": "6b1c6fbf",
   "metadata": {},
   "outputs": [],
   "source": [
    "print(classification_report(y_preds.y_act, y_preds.model_1))"
   ]
  },
  {
   "cell_type": "markdown",
   "id": "1c428b0b",
   "metadata": {},
   "source": [
    "- ### Run through steps 2-4 using a different max_depth value."
   ]
  },
  {
   "cell_type": "code",
   "execution_count": null,
   "id": "af464d88",
   "metadata": {},
   "outputs": [],
   "source": [
    "seed = 42\n",
    "tree2 = DecisionTreeClassifier(max_depth = 10, random_state= 42)"
   ]
  },
  {
   "cell_type": "code",
   "execution_count": null,
   "id": "7eb17d86",
   "metadata": {},
   "outputs": [],
   "source": [
    "tree2.fit(X_train, y_train)"
   ]
  },
  {
   "cell_type": "code",
   "execution_count": null,
   "id": "310ed849",
   "metadata": {},
   "outputs": [],
   "source": [
    "plt.figure(figsize=(20, 14))\n",
    "plot_tree(tree2, feature_names= X_train.columns, class_names= np.array(tree2.classes_).astype('str').tolist(), rounded=True)\n",
    "plt.show()"
   ]
  },
  {
   "cell_type": "code",
   "execution_count": null,
   "id": "1e012581",
   "metadata": {},
   "outputs": [],
   "source": [
    "tree2.score(X_train, y_train)"
   ]
  },
  {
   "cell_type": "code",
   "execution_count": null,
   "id": "50740813",
   "metadata": {},
   "outputs": [],
   "source": [
    "y_pre = pd.DataFrame({\n",
    "    'y_act': y_train,\n",
    "    'baseline': 0,\n",
    "    'model_2': tree2.predict(X_train)\n",
    "    \n",
    "})"
   ]
  },
  {
   "cell_type": "code",
   "execution_count": null,
   "id": "5bed6dd2",
   "metadata": {},
   "outputs": [],
   "source": [
    "m1 = (y_preds.y_act == y_preds.model_1).mean()\n",
    "m1"
   ]
  },
  {
   "cell_type": "code",
   "execution_count": null,
   "id": "ba7012ec",
   "metadata": {},
   "outputs": [],
   "source": [
    "m2 = (y_pre.y_act == y_pre.model_2).mean()\n",
    "m2"
   ]
  },
  {
   "cell_type": "markdown",
   "id": "c3cbe119",
   "metadata": {},
   "source": [
    "- ### Which model performs better on your in-sample data?"
   ]
  },
  {
   "cell_type": "code",
   "execution_count": null,
   "id": "9f88bce3",
   "metadata": {},
   "outputs": [],
   "source": [
    "m1 = (y_preds.y_act == y_preds.model_1).mean()\n",
    "m1"
   ]
  },
  {
   "cell_type": "code",
   "execution_count": null,
   "id": "e74eb513",
   "metadata": {},
   "outputs": [],
   "source": [
    "m2 = (y_pre.y_act == y_pre.model_2).mean()\n",
    "m2"
   ]
  },
  {
   "cell_type": "markdown",
   "id": "8a2fc818",
   "metadata": {},
   "source": [
    "- ### Which model performs best on your out-of-sample data, the validate set?"
   ]
  },
  {
   "cell_type": "code",
   "execution_count": null,
   "id": "a0029eef",
   "metadata": {},
   "outputs": [],
   "source": []
  },
  {
   "cell_type": "markdown",
   "id": "4d7cfae3",
   "metadata": {},
   "source": [
    "# Work through these same exercises using the Telco dataset"
   ]
  },
  {
   "cell_type": "code",
   "execution_count": null,
   "id": "596db8c2",
   "metadata": {},
   "outputs": [],
   "source": [
    "df = pd.read_csv('telco.csv')"
   ]
  },
  {
   "cell_type": "code",
   "execution_count": 2,
   "id": "a0984fbd",
   "metadata": {},
   "outputs": [],
   "source": [
    "telco_df = acquire.get_telco_data()"
   ]
  },
  {
   "cell_type": "code",
   "execution_count": 3,
   "id": "57a0d100",
   "metadata": {},
   "outputs": [],
   "source": [
    "import prepare"
   ]
  },
  {
   "cell_type": "code",
   "execution_count": 5,
   "id": "dd612b30",
   "metadata": {},
   "outputs": [],
   "source": [
    "telco_df = prepare.prep_telco_data(telco_df)"
   ]
  },
  {
   "cell_type": "code",
   "execution_count": 6,
   "id": "cc1a61a5",
   "metadata": {},
   "outputs": [
    {
     "data": {
      "text/html": [
       "<div>\n",
       "<style scoped>\n",
       "    .dataframe tbody tr th:only-of-type {\n",
       "        vertical-align: middle;\n",
       "    }\n",
       "\n",
       "    .dataframe tbody tr th {\n",
       "        vertical-align: top;\n",
       "    }\n",
       "\n",
       "    .dataframe thead th {\n",
       "        text-align: right;\n",
       "    }\n",
       "</style>\n",
       "<table border=\"1\" class=\"dataframe\">\n",
       "  <thead>\n",
       "    <tr style=\"text-align: right;\">\n",
       "      <th></th>\n",
       "      <th>gender</th>\n",
       "      <th>senior_citizen</th>\n",
       "      <th>partner</th>\n",
       "      <th>dependents</th>\n",
       "      <th>tenure</th>\n",
       "      <th>phone_service</th>\n",
       "      <th>multiple_lines</th>\n",
       "      <th>online_security</th>\n",
       "      <th>online_backup</th>\n",
       "      <th>device_protection</th>\n",
       "      <th>...</th>\n",
       "      <th>streaming_tv_Yes</th>\n",
       "      <th>streaming_movies_No internet service</th>\n",
       "      <th>streaming_movies_Yes</th>\n",
       "      <th>contract_type_One year</th>\n",
       "      <th>contract_type_Two year</th>\n",
       "      <th>internet_service_type_Fiber optic</th>\n",
       "      <th>internet_service_type_None</th>\n",
       "      <th>payment_type_Credit card (automatic)</th>\n",
       "      <th>payment_type_Electronic check</th>\n",
       "      <th>payment_type_Mailed check</th>\n",
       "    </tr>\n",
       "  </thead>\n",
       "  <tbody>\n",
       "    <tr>\n",
       "      <th>0</th>\n",
       "      <td>Female</td>\n",
       "      <td>0</td>\n",
       "      <td>Yes</td>\n",
       "      <td>Yes</td>\n",
       "      <td>9</td>\n",
       "      <td>Yes</td>\n",
       "      <td>No</td>\n",
       "      <td>No</td>\n",
       "      <td>Yes</td>\n",
       "      <td>No</td>\n",
       "      <td>...</td>\n",
       "      <td>1</td>\n",
       "      <td>0</td>\n",
       "      <td>0</td>\n",
       "      <td>1</td>\n",
       "      <td>0</td>\n",
       "      <td>0</td>\n",
       "      <td>0</td>\n",
       "      <td>0</td>\n",
       "      <td>0</td>\n",
       "      <td>1</td>\n",
       "    </tr>\n",
       "    <tr>\n",
       "      <th>1</th>\n",
       "      <td>Male</td>\n",
       "      <td>0</td>\n",
       "      <td>No</td>\n",
       "      <td>No</td>\n",
       "      <td>9</td>\n",
       "      <td>Yes</td>\n",
       "      <td>Yes</td>\n",
       "      <td>No</td>\n",
       "      <td>No</td>\n",
       "      <td>No</td>\n",
       "      <td>...</td>\n",
       "      <td>0</td>\n",
       "      <td>0</td>\n",
       "      <td>1</td>\n",
       "      <td>0</td>\n",
       "      <td>0</td>\n",
       "      <td>0</td>\n",
       "      <td>0</td>\n",
       "      <td>0</td>\n",
       "      <td>0</td>\n",
       "      <td>1</td>\n",
       "    </tr>\n",
       "    <tr>\n",
       "      <th>2</th>\n",
       "      <td>Male</td>\n",
       "      <td>0</td>\n",
       "      <td>No</td>\n",
       "      <td>No</td>\n",
       "      <td>4</td>\n",
       "      <td>Yes</td>\n",
       "      <td>No</td>\n",
       "      <td>No</td>\n",
       "      <td>No</td>\n",
       "      <td>Yes</td>\n",
       "      <td>...</td>\n",
       "      <td>0</td>\n",
       "      <td>0</td>\n",
       "      <td>0</td>\n",
       "      <td>0</td>\n",
       "      <td>0</td>\n",
       "      <td>1</td>\n",
       "      <td>0</td>\n",
       "      <td>0</td>\n",
       "      <td>1</td>\n",
       "      <td>0</td>\n",
       "    </tr>\n",
       "    <tr>\n",
       "      <th>3</th>\n",
       "      <td>Male</td>\n",
       "      <td>1</td>\n",
       "      <td>Yes</td>\n",
       "      <td>No</td>\n",
       "      <td>13</td>\n",
       "      <td>Yes</td>\n",
       "      <td>No</td>\n",
       "      <td>No</td>\n",
       "      <td>Yes</td>\n",
       "      <td>Yes</td>\n",
       "      <td>...</td>\n",
       "      <td>1</td>\n",
       "      <td>0</td>\n",
       "      <td>1</td>\n",
       "      <td>0</td>\n",
       "      <td>0</td>\n",
       "      <td>1</td>\n",
       "      <td>0</td>\n",
       "      <td>0</td>\n",
       "      <td>1</td>\n",
       "      <td>0</td>\n",
       "    </tr>\n",
       "    <tr>\n",
       "      <th>4</th>\n",
       "      <td>Female</td>\n",
       "      <td>1</td>\n",
       "      <td>Yes</td>\n",
       "      <td>No</td>\n",
       "      <td>3</td>\n",
       "      <td>Yes</td>\n",
       "      <td>No</td>\n",
       "      <td>No</td>\n",
       "      <td>No</td>\n",
       "      <td>No</td>\n",
       "      <td>...</td>\n",
       "      <td>1</td>\n",
       "      <td>0</td>\n",
       "      <td>0</td>\n",
       "      <td>0</td>\n",
       "      <td>0</td>\n",
       "      <td>1</td>\n",
       "      <td>0</td>\n",
       "      <td>0</td>\n",
       "      <td>0</td>\n",
       "      <td>1</td>\n",
       "    </tr>\n",
       "    <tr>\n",
       "      <th>...</th>\n",
       "      <td>...</td>\n",
       "      <td>...</td>\n",
       "      <td>...</td>\n",
       "      <td>...</td>\n",
       "      <td>...</td>\n",
       "      <td>...</td>\n",
       "      <td>...</td>\n",
       "      <td>...</td>\n",
       "      <td>...</td>\n",
       "      <td>...</td>\n",
       "      <td>...</td>\n",
       "      <td>...</td>\n",
       "      <td>...</td>\n",
       "      <td>...</td>\n",
       "      <td>...</td>\n",
       "      <td>...</td>\n",
       "      <td>...</td>\n",
       "      <td>...</td>\n",
       "      <td>...</td>\n",
       "      <td>...</td>\n",
       "      <td>...</td>\n",
       "    </tr>\n",
       "    <tr>\n",
       "      <th>7038</th>\n",
       "      <td>Female</td>\n",
       "      <td>0</td>\n",
       "      <td>No</td>\n",
       "      <td>No</td>\n",
       "      <td>13</td>\n",
       "      <td>Yes</td>\n",
       "      <td>No</td>\n",
       "      <td>Yes</td>\n",
       "      <td>No</td>\n",
       "      <td>No</td>\n",
       "      <td>...</td>\n",
       "      <td>0</td>\n",
       "      <td>0</td>\n",
       "      <td>0</td>\n",
       "      <td>1</td>\n",
       "      <td>0</td>\n",
       "      <td>0</td>\n",
       "      <td>0</td>\n",
       "      <td>0</td>\n",
       "      <td>0</td>\n",
       "      <td>1</td>\n",
       "    </tr>\n",
       "    <tr>\n",
       "      <th>7039</th>\n",
       "      <td>Male</td>\n",
       "      <td>0</td>\n",
       "      <td>Yes</td>\n",
       "      <td>No</td>\n",
       "      <td>22</td>\n",
       "      <td>Yes</td>\n",
       "      <td>Yes</td>\n",
       "      <td>No</td>\n",
       "      <td>No</td>\n",
       "      <td>No</td>\n",
       "      <td>...</td>\n",
       "      <td>0</td>\n",
       "      <td>0</td>\n",
       "      <td>1</td>\n",
       "      <td>0</td>\n",
       "      <td>0</td>\n",
       "      <td>1</td>\n",
       "      <td>0</td>\n",
       "      <td>0</td>\n",
       "      <td>1</td>\n",
       "      <td>0</td>\n",
       "    </tr>\n",
       "    <tr>\n",
       "      <th>7040</th>\n",
       "      <td>Male</td>\n",
       "      <td>0</td>\n",
       "      <td>No</td>\n",
       "      <td>No</td>\n",
       "      <td>2</td>\n",
       "      <td>Yes</td>\n",
       "      <td>No</td>\n",
       "      <td>No</td>\n",
       "      <td>Yes</td>\n",
       "      <td>No</td>\n",
       "      <td>...</td>\n",
       "      <td>0</td>\n",
       "      <td>0</td>\n",
       "      <td>0</td>\n",
       "      <td>0</td>\n",
       "      <td>0</td>\n",
       "      <td>0</td>\n",
       "      <td>0</td>\n",
       "      <td>0</td>\n",
       "      <td>0</td>\n",
       "      <td>1</td>\n",
       "    </tr>\n",
       "    <tr>\n",
       "      <th>7041</th>\n",
       "      <td>Male</td>\n",
       "      <td>0</td>\n",
       "      <td>Yes</td>\n",
       "      <td>Yes</td>\n",
       "      <td>67</td>\n",
       "      <td>Yes</td>\n",
       "      <td>No</td>\n",
       "      <td>Yes</td>\n",
       "      <td>No</td>\n",
       "      <td>Yes</td>\n",
       "      <td>...</td>\n",
       "      <td>0</td>\n",
       "      <td>0</td>\n",
       "      <td>1</td>\n",
       "      <td>0</td>\n",
       "      <td>1</td>\n",
       "      <td>0</td>\n",
       "      <td>0</td>\n",
       "      <td>0</td>\n",
       "      <td>0</td>\n",
       "      <td>1</td>\n",
       "    </tr>\n",
       "    <tr>\n",
       "      <th>7042</th>\n",
       "      <td>Male</td>\n",
       "      <td>0</td>\n",
       "      <td>Yes</td>\n",
       "      <td>Yes</td>\n",
       "      <td>63</td>\n",
       "      <td>No</td>\n",
       "      <td>No phone service</td>\n",
       "      <td>Yes</td>\n",
       "      <td>Yes</td>\n",
       "      <td>Yes</td>\n",
       "      <td>...</td>\n",
       "      <td>1</td>\n",
       "      <td>0</td>\n",
       "      <td>1</td>\n",
       "      <td>0</td>\n",
       "      <td>1</td>\n",
       "      <td>0</td>\n",
       "      <td>0</td>\n",
       "      <td>0</td>\n",
       "      <td>1</td>\n",
       "      <td>0</td>\n",
       "    </tr>\n",
       "  </tbody>\n",
       "</table>\n",
       "<p>7032 rows × 47 columns</p>\n",
       "</div>"
      ],
      "text/plain": [
       "      gender  senior_citizen partner dependents  tenure phone_service  \\\n",
       "0     Female               0     Yes        Yes       9           Yes   \n",
       "1       Male               0      No         No       9           Yes   \n",
       "2       Male               0      No         No       4           Yes   \n",
       "3       Male               1     Yes         No      13           Yes   \n",
       "4     Female               1     Yes         No       3           Yes   \n",
       "...      ...             ...     ...        ...     ...           ...   \n",
       "7038  Female               0      No         No      13           Yes   \n",
       "7039    Male               0     Yes         No      22           Yes   \n",
       "7040    Male               0      No         No       2           Yes   \n",
       "7041    Male               0     Yes        Yes      67           Yes   \n",
       "7042    Male               0     Yes        Yes      63            No   \n",
       "\n",
       "        multiple_lines online_security online_backup device_protection  ...  \\\n",
       "0                   No              No           Yes                No  ...   \n",
       "1                  Yes              No            No                No  ...   \n",
       "2                   No              No            No               Yes  ...   \n",
       "3                   No              No           Yes               Yes  ...   \n",
       "4                   No              No            No                No  ...   \n",
       "...                ...             ...           ...               ...  ...   \n",
       "7038                No             Yes            No                No  ...   \n",
       "7039               Yes              No            No                No  ...   \n",
       "7040                No              No           Yes                No  ...   \n",
       "7041                No             Yes            No               Yes  ...   \n",
       "7042  No phone service             Yes           Yes               Yes  ...   \n",
       "\n",
       "     streaming_tv_Yes streaming_movies_No internet service  \\\n",
       "0                   1                                    0   \n",
       "1                   0                                    0   \n",
       "2                   0                                    0   \n",
       "3                   1                                    0   \n",
       "4                   1                                    0   \n",
       "...               ...                                  ...   \n",
       "7038                0                                    0   \n",
       "7039                0                                    0   \n",
       "7040                0                                    0   \n",
       "7041                0                                    0   \n",
       "7042                1                                    0   \n",
       "\n",
       "     streaming_movies_Yes contract_type_One year  contract_type_Two year  \\\n",
       "0                       0                      1                       0   \n",
       "1                       1                      0                       0   \n",
       "2                       0                      0                       0   \n",
       "3                       1                      0                       0   \n",
       "4                       0                      0                       0   \n",
       "...                   ...                    ...                     ...   \n",
       "7038                    0                      1                       0   \n",
       "7039                    1                      0                       0   \n",
       "7040                    0                      0                       0   \n",
       "7041                    1                      0                       1   \n",
       "7042                    1                      0                       1   \n",
       "\n",
       "      internet_service_type_Fiber optic internet_service_type_None  \\\n",
       "0                                     0                          0   \n",
       "1                                     0                          0   \n",
       "2                                     1                          0   \n",
       "3                                     1                          0   \n",
       "4                                     1                          0   \n",
       "...                                 ...                        ...   \n",
       "7038                                  0                          0   \n",
       "7039                                  1                          0   \n",
       "7040                                  0                          0   \n",
       "7041                                  0                          0   \n",
       "7042                                  0                          0   \n",
       "\n",
       "     payment_type_Credit card (automatic) payment_type_Electronic check  \\\n",
       "0                                       0                             0   \n",
       "1                                       0                             0   \n",
       "2                                       0                             1   \n",
       "3                                       0                             1   \n",
       "4                                       0                             0   \n",
       "...                                   ...                           ...   \n",
       "7038                                    0                             0   \n",
       "7039                                    0                             1   \n",
       "7040                                    0                             0   \n",
       "7041                                    0                             0   \n",
       "7042                                    0                             1   \n",
       "\n",
       "     payment_type_Mailed check  \n",
       "0                            1  \n",
       "1                            1  \n",
       "2                            0  \n",
       "3                            0  \n",
       "4                            1  \n",
       "...                        ...  \n",
       "7038                         1  \n",
       "7039                         0  \n",
       "7040                         1  \n",
       "7041                         1  \n",
       "7042                         0  \n",
       "\n",
       "[7032 rows x 47 columns]"
      ]
     },
     "execution_count": 6,
     "metadata": {},
     "output_type": "execute_result"
    }
   ],
   "source": [
    "telco_df"
   ]
  },
  {
   "cell_type": "code",
   "execution_count": null,
   "id": "a8aa7c15",
   "metadata": {},
   "outputs": [],
   "source": [
    "telco = prepare.prep_telco_data(df)\n",
    "telco"
   ]
  },
  {
   "cell_type": "code",
   "execution_count": null,
   "id": "5d43e9b1",
   "metadata": {},
   "outputs": [],
   "source": []
  }
 ],
 "metadata": {
  "kernelspec": {
   "display_name": "Python 3 (ipykernel)",
   "language": "python",
   "name": "python3"
  },
  "language_info": {
   "codemirror_mode": {
    "name": "ipython",
    "version": 3
   },
   "file_extension": ".py",
   "mimetype": "text/x-python",
   "name": "python",
   "nbconvert_exporter": "python",
   "pygments_lexer": "ipython3",
   "version": "3.9.13"
  }
 },
 "nbformat": 4,
 "nbformat_minor": 5
}
